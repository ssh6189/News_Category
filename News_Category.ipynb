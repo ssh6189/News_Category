{
 "cells": [
  {
   "cell_type": "code",
   "execution_count": 1,
   "metadata": {},
   "outputs": [],
   "source": [
    "#TD-Idf로 텍스트를 벡터로 변환하는 모듈\n",
    "from konlpy.tag import Okt\n",
    "import pickle\n",
    "import numpy as np"
   ]
  },
  {
   "cell_type": "code",
   "execution_count": 2,
   "metadata": {},
   "outputs": [],
   "source": [
    "#KoNLPy의 Okt 객체 초기화\n",
    "okt = Okt()\n",
    "#전역 변수\n",
    "word_dic = {'_id':0} #단어 사전\n",
    "dt_dic = {} #문장 전체에서의 단어 출연 횟수\n",
    "files = [] #문서들을 저장할 리스트\n",
    "\n",
    "def tokenize(text):\n",
    "    '''KoNLPy로 형태소 분석하기'''\n",
    "    result = []\n",
    "    word_s = okt.pos(text, norm = True, stem = True)\n",
    "    for n, h in word_s:\n",
    "        if not (h in ['Noun', 'verb', 'Adjective']):\n",
    "            continue\n",
    "        result.append(n)\n",
    "    return result"
   ]
  },
  {
   "cell_type": "code",
   "execution_count": 3,
   "metadata": {},
   "outputs": [],
   "source": [
    "def words_to_ids(words, auto_add = True):\n",
    "    '''단어를 ID로 변환하기'''\n",
    "    result = []\n",
    "    for w in words:\n",
    "        if w in word_dic:\n",
    "            result.append(word_dic[w])\n",
    "            continue\n",
    "        elif auto_add:\n",
    "            id = word_dic[w] = word_dic['_id']\n",
    "            word_dic['_id'] = word_dic['_id'] + 1\n",
    "            result.append(id)\n",
    "    return result"
   ]
  },
  {
   "cell_type": "code",
   "execution_count": 4,
   "metadata": {},
   "outputs": [],
   "source": [
    "def add_text(text):\n",
    "    '''텍스트를 ID 리스트로 변환해서 추가하기'''\n",
    "    ids = words_to_ids(tokenize(text))\n",
    "    files.append(ids)"
   ]
  },
  {
   "cell_type": "code",
   "execution_count": 5,
   "metadata": {},
   "outputs": [],
   "source": [
    "def add_file(path):\n",
    "    '''텍스트 파일을 학습 전용으로 추가하기'''\n",
    "    with open(path, \"r\", encoding = \"utf-8\") as f:\n",
    "        s = f.read()\n",
    "        add_text(s)"
   ]
  },
  {
   "cell_type": "code",
   "execution_count": 6,
   "metadata": {},
   "outputs": [],
   "source": [
    "def calc_files():\n",
    "    '''추가한 파일 계산하기'''\n",
    "    global dt_dic\n",
    "    result = []\n",
    "    doc_count = len(files)\n",
    "    dt_dic = {}\n",
    "    #단어 출현 횟수 세기\n",
    "    for words in files:\n",
    "        used_word = {}\n",
    "        data = np.zeros(word_dic['_id'])\n",
    "        for id in words:\n",
    "            data[id] = data[id] + 1\n",
    "            used_word[id] = 1\n",
    "        #단어 t가 사용되고 있을 경우 dt_dic의 수를 1 더하기\n",
    "        for id in used_word:\n",
    "            if not(id in dt_dic):\n",
    "                dt_dic[id] = 0\n",
    "            dt_dic[id] = dt_dic[id] + 1\n",
    "            \n",
    "        #정규화하기\n",
    "        data = data/len(words)\n",
    "        result.append(data)\n",
    "        \n",
    "    #TF-IDF 계산하기\n",
    "    for i, doc in enumerate(result):\n",
    "        for id, v in enumerate(doc):\n",
    "            idf = np.log(doc_count/dt_dic[id]) + 1\n",
    "            doc[id] = min([doc[id] * idf, 1.0])\n",
    "        result[i] = doc\n",
    "    return result"
   ]
  },
  {
   "cell_type": "code",
   "execution_count": 7,
   "metadata": {},
   "outputs": [],
   "source": [
    "def save_dic(fname):\n",
    "    '''사전을 파일로 저장하기'''\n",
    "    pickle.dump(\n",
    "    [word_dic, dt_dic, files],\n",
    "    open(fname, \"wb\"))"
   ]
  },
  {
   "cell_type": "code",
   "execution_count": 8,
   "metadata": {},
   "outputs": [],
   "source": [
    "def load_dc(fname):\n",
    "    '''사전 파일 읽어 들이기'''\n",
    "    global word_dic, dt_dic, files\n",
    "    n = pickle.load(open(fname, 'rb'))\n",
    "    word_dic, dt_dc, files = n"
   ]
  },
  {
   "cell_type": "code",
   "execution_count": 9,
   "metadata": {},
   "outputs": [
    {
     "name": "stdout",
     "output_type": "stream",
     "text": [
      "[array([1., 0., 0., 0., 0.]), array([0.5       , 0.84657359, 0.        , 0.        , 0.        ]), array([0.25      , 0.4232868 , 0.59657359, 0.59657359, 0.        ]), array([0.5, 0. , 0. , 0. , 1. ])]\n",
      "{'_id': 5, '비': 0, '오늘': 1, '덥다': 2, '오후': 3, '일요일': 4}\n"
     ]
    }
   ],
   "source": [
    "def calc_text(text):\n",
    "    '''문장을 벡터로 변환하기'''\n",
    "    data = np.zeros(word_2dic['_id'])\n",
    "    words = words_to_ids(tokenize(text), False)\n",
    "    for w in words:\n",
    "        data[w] = data[w] + 1\n",
    "    \n",
    "    data = data/len(words)\n",
    "    \n",
    "    for id, v in enumerate(data):\n",
    "        idf = np.log(len(files)/dt_dic[id]) + 1\n",
    "        data[id] = min([data[id]*idf, 1.0])\n",
    "    return data\n",
    "\n",
    "#모듈 테스트하기\n",
    "if __name__ == '__main__':\n",
    "    add_text('비')\n",
    "    add_text('오늘은 비가 내렸어요.')\n",
    "    add_text('오늘은 더웠지만, 오후부터 비가 내렸다.')\n",
    "    add_text('비가 내리는 일요일이다.')\n",
    "    print(calc_files())\n",
    "    print(word_dic)"
   ]
  }
 ],
 "metadata": {
  "kernelspec": {
   "display_name": "Python 3",
   "language": "python",
   "name": "python3"
  },
  "language_info": {
   "codemirror_mode": {
    "name": "ipython",
    "version": 3
   },
   "file_extension": ".py",
   "mimetype": "text/x-python",
   "name": "python",
   "nbconvert_exporter": "python",
   "pygments_lexer": "ipython3",
   "version": "3.7.7"
  }
 },
 "nbformat": 4,
 "nbformat_minor": 4
}
